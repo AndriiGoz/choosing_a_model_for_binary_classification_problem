{
  "nbformat": 4,
  "nbformat_minor": 0,
  "metadata": {
    "colab": {
      "provenance": [],
      "collapsed_sections": []
    },
    "kernelspec": {
      "name": "python3",
      "display_name": "Python 3"
    },
    "language_info": {
      "name": "python"
    },
    "accelerator": "TPU",
    "gpuClass": "standard"
  },
  "cells": [
    {
      "cell_type": "markdown",
      "source": [
        "## 1. Loading, reading, and investigating the data. Getting the first insights\n",
        "For this article, I selected the dataset from the Sloan Digital Sky Survey (SDSS) [https://skyserver.sdss.org/dr17](https://). SDSS is an imaging and spectroscopic survey  dedicated to sky observations, that took place in New Mexico, United States.\n",
        "\n",
        "At the start, we import all necessary libraries, read the CSV file, get the shape of the data and take a look at the first 10 rows."
      ],
      "metadata": {
        "id": "L3mMiUuZwCvr"
      }
    },
    {
      "cell_type": "code",
      "source": [
        "import numpy as np\n",
        "import pandas as pd\n",
        "import matplotlib.pyplot as plt\n",
        "from sklearn import preprocessing, metrics\n",
        "from sklearn.svm import SVC\n",
        "from sklearn.decomposition import PCA\n",
        "from sklearn.model_selection import train_test_split\n",
        "from sklearn.linear_model import LogisticRegression, SGDClassifier\n",
        "from sklearn.ensemble import RandomForestClassifier\n",
        "import tensorflow as tf"
      ],
      "metadata": {
        "id": "-f4KdPPVzDku"
      },
      "execution_count": null,
      "outputs": []
    },
    {
      "cell_type": "code",
      "source": [
        "from google.colab import drive\n",
        "drive.mount('/content/gdrive', force_remount=True)"
      ],
      "metadata": {
        "colab": {
          "base_uri": "https://localhost:8080/"
        },
        "id": "DOLwefVhzAVt",
        "outputId": "a1347413-444c-49ac-b9d7-2c6c45357933"
      },
      "execution_count": null,
      "outputs": [
        {
          "output_type": "stream",
          "name": "stdout",
          "text": [
            "Mounted at /content/gdrive\n"
          ]
        }
      ]
    },
    {
      "cell_type": "code",
      "source": [
        "data = pd.read_csv('/content/gdrive/My Drive/Colab Notebooks/skydata.csv')\n",
        "data.shape"
      ],
      "metadata": {
        "id": "xSppvNiOzYdf",
        "colab": {
          "base_uri": "https://localhost:8080/"
        },
        "outputId": "628c6af9-c1c1-4a2f-eaa6-7aab95bb6778"
      },
      "execution_count": null,
      "outputs": [
        {
          "output_type": "execute_result",
          "data": {
            "text/plain": [
              "(80000, 18)"
            ]
          },
          "metadata": {},
          "execution_count": 3
        }
      ]
    },
    {
      "cell_type": "code",
      "source": [
        "data.head(10)"
      ],
      "metadata": {
        "colab": {
          "base_uri": "https://localhost:8080/",
          "height": 427
        },
        "id": "R0H7gxEqz65i",
        "outputId": "358d9e93-2943-4705-f982-63c31e5f0118"
      },
      "execution_count": null,
      "outputs": [
        {
          "output_type": "execute_result",
          "data": {
            "text/plain": [
              "         dec         u  redshift         z         r          ra   run  \\\n",
              "0   2.803170  19.35065  0.142265  16.32664  17.04886  182.898466  1458   \n",
              "1  23.891666  17.57148  0.000032  15.88743  16.04065  270.240850  4832   \n",
              "2  14.323357  18.30611  0.073976  15.00599  15.73859  138.913885  5935   \n",
              "3   6.157200  19.52862  0.040765  16.13952  16.88640  159.998722  2986   \n",
              "4  -0.395033  18.91353  0.000084  17.14535  17.36865  181.624546  6793   \n",
              "5  51.092334  16.78492  0.000040  15.54251  15.57710  181.778987  2964   \n",
              "6   0.891496  19.43205  0.001170  18.09884  18.24911  132.673009  1239   \n",
              "7  33.746622  19.43446  0.082736  15.88185  16.65152  161.128566  4550   \n",
              "8  50.089984  19.10431  0.063918  16.83548  17.29159  223.776835  3705   \n",
              "9  42.417207  19.34225 -0.001037  18.49664  18.36392  183.092882  3893   \n",
              "\n",
              "             specobjid  field  plate  camcol         g                objid  \\\n",
              "0   583309923396381000    388    518       4  17.89648  1237651736831980000   \n",
              "1  2471445199432210000    126   2195       3  16.38217  1237666227497600000   \n",
              "2  2742700762298610000    151   2436       4  16.52253  1237670965385040000   \n",
              "3  1125959874568550000    276   1000       2  17.74360  1237658298460930000   \n",
              "4   363748710133295000    140    323       3  17.80134  1237674649929380000   \n",
              "5  3258477002100860000    308   2894       6  15.76060  1237658206121230000   \n",
              "6  4292144942145620000     82   3812       6  18.52442  1237650797287830000   \n",
              "7  2279994098163150000     39   2025       6  17.58085  1237665017921730000   \n",
              "8  1495195397906260000    153   1328       2  17.81979  1237661386534360000   \n",
              "9  1632613191383020000    166   1450       3  18.36205  1237662194525930000   \n",
              "\n",
              "    class  fiberid  rerun         i    mjd  \n",
              "0    STAR      341    301  16.63305  52282  \n",
              "1  GALAXY      345    301  15.92649  54234  \n",
              "2    STAR       31    301  15.32356  54054  \n",
              "3    STAR      218    301  16.48322  52643  \n",
              "4  GALAXY      302    301  17.21479  51615  \n",
              "5  GALAXY      446    301  15.51511  54539  \n",
              "6  GALAXY      780    301  18.13656  55513  \n",
              "7    STAR      170    301  16.21602  53431  \n",
              "8    STAR        1    301  17.00263  52786  \n",
              "9  GALAXY      212    301  18.41816  53120  "
            ],
            "text/html": [
              "\n",
              "  <div id=\"df-6d04c895-70df-4e01-b850-582dabee038f\">\n",
              "    <div class=\"colab-df-container\">\n",
              "      <div>\n",
              "<style scoped>\n",
              "    .dataframe tbody tr th:only-of-type {\n",
              "        vertical-align: middle;\n",
              "    }\n",
              "\n",
              "    .dataframe tbody tr th {\n",
              "        vertical-align: top;\n",
              "    }\n",
              "\n",
              "    .dataframe thead th {\n",
              "        text-align: right;\n",
              "    }\n",
              "</style>\n",
              "<table border=\"1\" class=\"dataframe\">\n",
              "  <thead>\n",
              "    <tr style=\"text-align: right;\">\n",
              "      <th></th>\n",
              "      <th>dec</th>\n",
              "      <th>u</th>\n",
              "      <th>redshift</th>\n",
              "      <th>z</th>\n",
              "      <th>r</th>\n",
              "      <th>ra</th>\n",
              "      <th>run</th>\n",
              "      <th>specobjid</th>\n",
              "      <th>field</th>\n",
              "      <th>plate</th>\n",
              "      <th>camcol</th>\n",
              "      <th>g</th>\n",
              "      <th>objid</th>\n",
              "      <th>class</th>\n",
              "      <th>fiberid</th>\n",
              "      <th>rerun</th>\n",
              "      <th>i</th>\n",
              "      <th>mjd</th>\n",
              "    </tr>\n",
              "  </thead>\n",
              "  <tbody>\n",
              "    <tr>\n",
              "      <th>0</th>\n",
              "      <td>2.803170</td>\n",
              "      <td>19.35065</td>\n",
              "      <td>0.142265</td>\n",
              "      <td>16.32664</td>\n",
              "      <td>17.04886</td>\n",
              "      <td>182.898466</td>\n",
              "      <td>1458</td>\n",
              "      <td>583309923396381000</td>\n",
              "      <td>388</td>\n",
              "      <td>518</td>\n",
              "      <td>4</td>\n",
              "      <td>17.89648</td>\n",
              "      <td>1237651736831980000</td>\n",
              "      <td>STAR</td>\n",
              "      <td>341</td>\n",
              "      <td>301</td>\n",
              "      <td>16.63305</td>\n",
              "      <td>52282</td>\n",
              "    </tr>\n",
              "    <tr>\n",
              "      <th>1</th>\n",
              "      <td>23.891666</td>\n",
              "      <td>17.57148</td>\n",
              "      <td>0.000032</td>\n",
              "      <td>15.88743</td>\n",
              "      <td>16.04065</td>\n",
              "      <td>270.240850</td>\n",
              "      <td>4832</td>\n",
              "      <td>2471445199432210000</td>\n",
              "      <td>126</td>\n",
              "      <td>2195</td>\n",
              "      <td>3</td>\n",
              "      <td>16.38217</td>\n",
              "      <td>1237666227497600000</td>\n",
              "      <td>GALAXY</td>\n",
              "      <td>345</td>\n",
              "      <td>301</td>\n",
              "      <td>15.92649</td>\n",
              "      <td>54234</td>\n",
              "    </tr>\n",
              "    <tr>\n",
              "      <th>2</th>\n",
              "      <td>14.323357</td>\n",
              "      <td>18.30611</td>\n",
              "      <td>0.073976</td>\n",
              "      <td>15.00599</td>\n",
              "      <td>15.73859</td>\n",
              "      <td>138.913885</td>\n",
              "      <td>5935</td>\n",
              "      <td>2742700762298610000</td>\n",
              "      <td>151</td>\n",
              "      <td>2436</td>\n",
              "      <td>4</td>\n",
              "      <td>16.52253</td>\n",
              "      <td>1237670965385040000</td>\n",
              "      <td>STAR</td>\n",
              "      <td>31</td>\n",
              "      <td>301</td>\n",
              "      <td>15.32356</td>\n",
              "      <td>54054</td>\n",
              "    </tr>\n",
              "    <tr>\n",
              "      <th>3</th>\n",
              "      <td>6.157200</td>\n",
              "      <td>19.52862</td>\n",
              "      <td>0.040765</td>\n",
              "      <td>16.13952</td>\n",
              "      <td>16.88640</td>\n",
              "      <td>159.998722</td>\n",
              "      <td>2986</td>\n",
              "      <td>1125959874568550000</td>\n",
              "      <td>276</td>\n",
              "      <td>1000</td>\n",
              "      <td>2</td>\n",
              "      <td>17.74360</td>\n",
              "      <td>1237658298460930000</td>\n",
              "      <td>STAR</td>\n",
              "      <td>218</td>\n",
              "      <td>301</td>\n",
              "      <td>16.48322</td>\n",
              "      <td>52643</td>\n",
              "    </tr>\n",
              "    <tr>\n",
              "      <th>4</th>\n",
              "      <td>-0.395033</td>\n",
              "      <td>18.91353</td>\n",
              "      <td>0.000084</td>\n",
              "      <td>17.14535</td>\n",
              "      <td>17.36865</td>\n",
              "      <td>181.624546</td>\n",
              "      <td>6793</td>\n",
              "      <td>363748710133295000</td>\n",
              "      <td>140</td>\n",
              "      <td>323</td>\n",
              "      <td>3</td>\n",
              "      <td>17.80134</td>\n",
              "      <td>1237674649929380000</td>\n",
              "      <td>GALAXY</td>\n",
              "      <td>302</td>\n",
              "      <td>301</td>\n",
              "      <td>17.21479</td>\n",
              "      <td>51615</td>\n",
              "    </tr>\n",
              "    <tr>\n",
              "      <th>5</th>\n",
              "      <td>51.092334</td>\n",
              "      <td>16.78492</td>\n",
              "      <td>0.000040</td>\n",
              "      <td>15.54251</td>\n",
              "      <td>15.57710</td>\n",
              "      <td>181.778987</td>\n",
              "      <td>2964</td>\n",
              "      <td>3258477002100860000</td>\n",
              "      <td>308</td>\n",
              "      <td>2894</td>\n",
              "      <td>6</td>\n",
              "      <td>15.76060</td>\n",
              "      <td>1237658206121230000</td>\n",
              "      <td>GALAXY</td>\n",
              "      <td>446</td>\n",
              "      <td>301</td>\n",
              "      <td>15.51511</td>\n",
              "      <td>54539</td>\n",
              "    </tr>\n",
              "    <tr>\n",
              "      <th>6</th>\n",
              "      <td>0.891496</td>\n",
              "      <td>19.43205</td>\n",
              "      <td>0.001170</td>\n",
              "      <td>18.09884</td>\n",
              "      <td>18.24911</td>\n",
              "      <td>132.673009</td>\n",
              "      <td>1239</td>\n",
              "      <td>4292144942145620000</td>\n",
              "      <td>82</td>\n",
              "      <td>3812</td>\n",
              "      <td>6</td>\n",
              "      <td>18.52442</td>\n",
              "      <td>1237650797287830000</td>\n",
              "      <td>GALAXY</td>\n",
              "      <td>780</td>\n",
              "      <td>301</td>\n",
              "      <td>18.13656</td>\n",
              "      <td>55513</td>\n",
              "    </tr>\n",
              "    <tr>\n",
              "      <th>7</th>\n",
              "      <td>33.746622</td>\n",
              "      <td>19.43446</td>\n",
              "      <td>0.082736</td>\n",
              "      <td>15.88185</td>\n",
              "      <td>16.65152</td>\n",
              "      <td>161.128566</td>\n",
              "      <td>4550</td>\n",
              "      <td>2279994098163150000</td>\n",
              "      <td>39</td>\n",
              "      <td>2025</td>\n",
              "      <td>6</td>\n",
              "      <td>17.58085</td>\n",
              "      <td>1237665017921730000</td>\n",
              "      <td>STAR</td>\n",
              "      <td>170</td>\n",
              "      <td>301</td>\n",
              "      <td>16.21602</td>\n",
              "      <td>53431</td>\n",
              "    </tr>\n",
              "    <tr>\n",
              "      <th>8</th>\n",
              "      <td>50.089984</td>\n",
              "      <td>19.10431</td>\n",
              "      <td>0.063918</td>\n",
              "      <td>16.83548</td>\n",
              "      <td>17.29159</td>\n",
              "      <td>223.776835</td>\n",
              "      <td>3705</td>\n",
              "      <td>1495195397906260000</td>\n",
              "      <td>153</td>\n",
              "      <td>1328</td>\n",
              "      <td>2</td>\n",
              "      <td>17.81979</td>\n",
              "      <td>1237661386534360000</td>\n",
              "      <td>STAR</td>\n",
              "      <td>1</td>\n",
              "      <td>301</td>\n",
              "      <td>17.00263</td>\n",
              "      <td>52786</td>\n",
              "    </tr>\n",
              "    <tr>\n",
              "      <th>9</th>\n",
              "      <td>42.417207</td>\n",
              "      <td>19.34225</td>\n",
              "      <td>-0.001037</td>\n",
              "      <td>18.49664</td>\n",
              "      <td>18.36392</td>\n",
              "      <td>183.092882</td>\n",
              "      <td>3893</td>\n",
              "      <td>1632613191383020000</td>\n",
              "      <td>166</td>\n",
              "      <td>1450</td>\n",
              "      <td>3</td>\n",
              "      <td>18.36205</td>\n",
              "      <td>1237662194525930000</td>\n",
              "      <td>GALAXY</td>\n",
              "      <td>212</td>\n",
              "      <td>301</td>\n",
              "      <td>18.41816</td>\n",
              "      <td>53120</td>\n",
              "    </tr>\n",
              "  </tbody>\n",
              "</table>\n",
              "</div>\n",
              "      <button class=\"colab-df-convert\" onclick=\"convertToInteractive('df-6d04c895-70df-4e01-b850-582dabee038f')\"\n",
              "              title=\"Convert this dataframe to an interactive table.\"\n",
              "              style=\"display:none;\">\n",
              "        \n",
              "  <svg xmlns=\"http://www.w3.org/2000/svg\" height=\"24px\"viewBox=\"0 0 24 24\"\n",
              "       width=\"24px\">\n",
              "    <path d=\"M0 0h24v24H0V0z\" fill=\"none\"/>\n",
              "    <path d=\"M18.56 5.44l.94 2.06.94-2.06 2.06-.94-2.06-.94-.94-2.06-.94 2.06-2.06.94zm-11 1L8.5 8.5l.94-2.06 2.06-.94-2.06-.94L8.5 2.5l-.94 2.06-2.06.94zm10 10l.94 2.06.94-2.06 2.06-.94-2.06-.94-.94-2.06-.94 2.06-2.06.94z\"/><path d=\"M17.41 7.96l-1.37-1.37c-.4-.4-.92-.59-1.43-.59-.52 0-1.04.2-1.43.59L10.3 9.45l-7.72 7.72c-.78.78-.78 2.05 0 2.83L4 21.41c.39.39.9.59 1.41.59.51 0 1.02-.2 1.41-.59l7.78-7.78 2.81-2.81c.8-.78.8-2.07 0-2.86zM5.41 20L4 18.59l7.72-7.72 1.47 1.35L5.41 20z\"/>\n",
              "  </svg>\n",
              "      </button>\n",
              "      \n",
              "  <style>\n",
              "    .colab-df-container {\n",
              "      display:flex;\n",
              "      flex-wrap:wrap;\n",
              "      gap: 12px;\n",
              "    }\n",
              "\n",
              "    .colab-df-convert {\n",
              "      background-color: #E8F0FE;\n",
              "      border: none;\n",
              "      border-radius: 50%;\n",
              "      cursor: pointer;\n",
              "      display: none;\n",
              "      fill: #1967D2;\n",
              "      height: 32px;\n",
              "      padding: 0 0 0 0;\n",
              "      width: 32px;\n",
              "    }\n",
              "\n",
              "    .colab-df-convert:hover {\n",
              "      background-color: #E2EBFA;\n",
              "      box-shadow: 0px 1px 2px rgba(60, 64, 67, 0.3), 0px 1px 3px 1px rgba(60, 64, 67, 0.15);\n",
              "      fill: #174EA6;\n",
              "    }\n",
              "\n",
              "    [theme=dark] .colab-df-convert {\n",
              "      background-color: #3B4455;\n",
              "      fill: #D2E3FC;\n",
              "    }\n",
              "\n",
              "    [theme=dark] .colab-df-convert:hover {\n",
              "      background-color: #434B5C;\n",
              "      box-shadow: 0px 1px 3px 1px rgba(0, 0, 0, 0.15);\n",
              "      filter: drop-shadow(0px 1px 2px rgba(0, 0, 0, 0.3));\n",
              "      fill: #FFFFFF;\n",
              "    }\n",
              "  </style>\n",
              "\n",
              "      <script>\n",
              "        const buttonEl =\n",
              "          document.querySelector('#df-6d04c895-70df-4e01-b850-582dabee038f button.colab-df-convert');\n",
              "        buttonEl.style.display =\n",
              "          google.colab.kernel.accessAllowed ? 'block' : 'none';\n",
              "\n",
              "        async function convertToInteractive(key) {\n",
              "          const element = document.querySelector('#df-6d04c895-70df-4e01-b850-582dabee038f');\n",
              "          const dataTable =\n",
              "            await google.colab.kernel.invokeFunction('convertToInteractive',\n",
              "                                                     [key], {});\n",
              "          if (!dataTable) return;\n",
              "\n",
              "          const docLinkHtml = 'Like what you see? Visit the ' +\n",
              "            '<a target=\"_blank\" href=https://colab.research.google.com/notebooks/data_table.ipynb>data table notebook</a>'\n",
              "            + ' to learn more about interactive tables.';\n",
              "          element.innerHTML = '';\n",
              "          dataTable['output_type'] = 'display_data';\n",
              "          await google.colab.output.renderOutput(dataTable, element);\n",
              "          const docLink = document.createElement('div');\n",
              "          docLink.innerHTML = docLinkHtml;\n",
              "          element.appendChild(docLink);\n",
              "        }\n",
              "      </script>\n",
              "    </div>\n",
              "  </div>\n",
              "  "
            ]
          },
          "metadata": {},
          "execution_count": 4
        }
      ]
    },
    {
      "cell_type": "code",
      "source": [
        "data['class'].value_counts()"
      ],
      "metadata": {
        "colab": {
          "base_uri": "https://localhost:8080/"
        },
        "id": "nRR3ZtVQ0Tna",
        "outputId": "e7b7ee69-6661-4f8f-c033-f4ddd6bbb9c6"
      },
      "execution_count": null,
      "outputs": [
        {
          "output_type": "execute_result",
          "data": {
            "text/plain": [
              "STAR      46004\n",
              "GALAXY    33996\n",
              "Name: class, dtype: int64"
            ]
          },
          "metadata": {},
          "execution_count": 5
        }
      ]
    },
    {
      "cell_type": "markdown",
      "source": [
        "There are 80,000 instances and 18 attributes in the dataset. The data is perfectly clear, without missing cells, there are two target classes labeled as \"STAR\" and \"GALAXY\". The dataset suits well for a Binary Classification exercise. All target features are labeled, which means we make supervised learning here. The target values are distributed 58% to 42%, more or less equally, which is good."
      ],
      "metadata": {
        "id": "_eNGSCaGs3Yo"
      }
    },
    {
      "cell_type": "code",
      "source": [
        "data.info()"
      ],
      "metadata": {
        "colab": {
          "base_uri": "https://localhost:8080/"
        },
        "id": "vyoErTtG1wgv",
        "outputId": "0db98600-1791-419b-a58a-1d4475511116"
      },
      "execution_count": null,
      "outputs": [
        {
          "output_type": "stream",
          "name": "stdout",
          "text": [
            "<class 'pandas.core.frame.DataFrame'>\n",
            "RangeIndex: 80000 entries, 0 to 79999\n",
            "Data columns (total 18 columns):\n",
            " #   Column     Non-Null Count  Dtype  \n",
            "---  ------     --------------  -----  \n",
            " 0   dec        80000 non-null  float64\n",
            " 1   u          80000 non-null  float64\n",
            " 2   redshift   80000 non-null  float64\n",
            " 3   z          80000 non-null  float64\n",
            " 4   r          80000 non-null  float64\n",
            " 5   ra         80000 non-null  float64\n",
            " 6   run        80000 non-null  int64  \n",
            " 7   specobjid  80000 non-null  uint64 \n",
            " 8   field      80000 non-null  int64  \n",
            " 9   plate      80000 non-null  int64  \n",
            " 10  camcol     80000 non-null  int64  \n",
            " 11  g          80000 non-null  float64\n",
            " 12  objid      80000 non-null  int64  \n",
            " 13  class      80000 non-null  object \n",
            " 14  fiberid    80000 non-null  int64  \n",
            " 15  rerun      80000 non-null  int64  \n",
            " 16  i          80000 non-null  float64\n",
            " 17  mjd        80000 non-null  int64  \n",
            "dtypes: float64(8), int64(8), object(1), uint64(1)\n",
            "memory usage: 11.0+ MB\n"
          ]
        }
      ]
    },
    {
      "cell_type": "code",
      "source": [
        "data.isnull().values.any()"
      ],
      "metadata": {
        "colab": {
          "base_uri": "https://localhost:8080/"
        },
        "id": "tzuhGXwivMZC",
        "outputId": "063f0bbc-0ce4-4e53-b0c5-b091944a3f90"
      },
      "execution_count": null,
      "outputs": [
        {
          "output_type": "execute_result",
          "data": {
            "text/plain": [
              "False"
            ]
          },
          "metadata": {},
          "execution_count": 7
        }
      ]
    },
    {
      "cell_type": "markdown",
      "source": [
        "The data looks perfectly clear, we do not have missing cells, there are three different data types for numerical values, but it is not a problem, we will fix it in the next steps.\n",
        "\n",
        "First, let's try to find the meaning of presented features and split them into two groups: the ones that we feed to our learning algorithm; and the features that couldn't influence the learning (e.g. IDs or observation dates).\n",
        "\n",
        "**u, g, r, i, z** are magnitudes, they are image-specific features and definitely have to participate in the learning. **redshift** is one of the specific features of the spectrograph.\n",
        "\n",
        "**objid**, **specobjid** and **fiberid** stand for some object- and equipment-specific IDs, **mjd** is just a date of observation. **run, rerun, camcol, field** relate to metadata and define experiment-related IDs. **plate** stands for the serial number of an observation plate. We do not take into account all these features.\n",
        "\n",
        "**ra** and **dec** are sky coordinates of the observed object. I am not sure about these two columns, but let's assume they do not affect us and we try to train the model without them. (In a real business case these points should be definitely cleared).\n",
        "\n",
        "Now we investigate **u, g, r, i, z, redshift** values. Let's get some statistics for these features."
      ],
      "metadata": {
        "id": "OTC377_9f8a4"
      }
    },
    {
      "cell_type": "code",
      "source": [
        "data[['u', 'g', 'r', 'i', 'z', 'redshift']].describe()"
      ],
      "metadata": {
        "colab": {
          "base_uri": "https://localhost:8080/",
          "height": 300
        },
        "id": "UGEzh5K5jxc3",
        "outputId": "9065d353-96b6-49e6-86ae-0743877526be"
      },
      "execution_count": null,
      "outputs": [
        {
          "output_type": "execute_result",
          "data": {
            "text/plain": [
              "                  u             g             r             i             z  \\\n",
              "count  80000.000000  80000.000000  80000.000000  80000.000000  80000.000000   \n",
              "mean      18.599217     17.255286     16.688952     16.417453     16.249336   \n",
              "std        0.850213      0.906773      1.013888      1.074750      1.144420   \n",
              "min       10.611810      9.988000      9.005167      8.848403      8.947795   \n",
              "25%       18.151283     16.763295     16.112177     15.781940     15.533245   \n",
              "50%       18.836250     17.414850     16.754960     16.453590     16.264470   \n",
              "75%       19.253073     17.907175     17.392215     17.129413     16.994713   \n",
              "max       19.599950     19.996050     31.990100     32.101780     29.383740   \n",
              "\n",
              "           redshift  \n",
              "count  80000.000000  \n",
              "mean       0.044789  \n",
              "std        0.053003  \n",
              "min       -0.004136  \n",
              "25%       -0.000033  \n",
              "50%        0.033506  \n",
              "75%        0.078770  \n",
              "max        1.945427  "
            ],
            "text/html": [
              "\n",
              "  <div id=\"df-350d657e-2056-4faf-84c2-9b7d515830fc\">\n",
              "    <div class=\"colab-df-container\">\n",
              "      <div>\n",
              "<style scoped>\n",
              "    .dataframe tbody tr th:only-of-type {\n",
              "        vertical-align: middle;\n",
              "    }\n",
              "\n",
              "    .dataframe tbody tr th {\n",
              "        vertical-align: top;\n",
              "    }\n",
              "\n",
              "    .dataframe thead th {\n",
              "        text-align: right;\n",
              "    }\n",
              "</style>\n",
              "<table border=\"1\" class=\"dataframe\">\n",
              "  <thead>\n",
              "    <tr style=\"text-align: right;\">\n",
              "      <th></th>\n",
              "      <th>u</th>\n",
              "      <th>g</th>\n",
              "      <th>r</th>\n",
              "      <th>i</th>\n",
              "      <th>z</th>\n",
              "      <th>redshift</th>\n",
              "    </tr>\n",
              "  </thead>\n",
              "  <tbody>\n",
              "    <tr>\n",
              "      <th>count</th>\n",
              "      <td>80000.000000</td>\n",
              "      <td>80000.000000</td>\n",
              "      <td>80000.000000</td>\n",
              "      <td>80000.000000</td>\n",
              "      <td>80000.000000</td>\n",
              "      <td>80000.000000</td>\n",
              "    </tr>\n",
              "    <tr>\n",
              "      <th>mean</th>\n",
              "      <td>18.599217</td>\n",
              "      <td>17.255286</td>\n",
              "      <td>16.688952</td>\n",
              "      <td>16.417453</td>\n",
              "      <td>16.249336</td>\n",
              "      <td>0.044789</td>\n",
              "    </tr>\n",
              "    <tr>\n",
              "      <th>std</th>\n",
              "      <td>0.850213</td>\n",
              "      <td>0.906773</td>\n",
              "      <td>1.013888</td>\n",
              "      <td>1.074750</td>\n",
              "      <td>1.144420</td>\n",
              "      <td>0.053003</td>\n",
              "    </tr>\n",
              "    <tr>\n",
              "      <th>min</th>\n",
              "      <td>10.611810</td>\n",
              "      <td>9.988000</td>\n",
              "      <td>9.005167</td>\n",
              "      <td>8.848403</td>\n",
              "      <td>8.947795</td>\n",
              "      <td>-0.004136</td>\n",
              "    </tr>\n",
              "    <tr>\n",
              "      <th>25%</th>\n",
              "      <td>18.151283</td>\n",
              "      <td>16.763295</td>\n",
              "      <td>16.112177</td>\n",
              "      <td>15.781940</td>\n",
              "      <td>15.533245</td>\n",
              "      <td>-0.000033</td>\n",
              "    </tr>\n",
              "    <tr>\n",
              "      <th>50%</th>\n",
              "      <td>18.836250</td>\n",
              "      <td>17.414850</td>\n",
              "      <td>16.754960</td>\n",
              "      <td>16.453590</td>\n",
              "      <td>16.264470</td>\n",
              "      <td>0.033506</td>\n",
              "    </tr>\n",
              "    <tr>\n",
              "      <th>75%</th>\n",
              "      <td>19.253073</td>\n",
              "      <td>17.907175</td>\n",
              "      <td>17.392215</td>\n",
              "      <td>17.129413</td>\n",
              "      <td>16.994713</td>\n",
              "      <td>0.078770</td>\n",
              "    </tr>\n",
              "    <tr>\n",
              "      <th>max</th>\n",
              "      <td>19.599950</td>\n",
              "      <td>19.996050</td>\n",
              "      <td>31.990100</td>\n",
              "      <td>32.101780</td>\n",
              "      <td>29.383740</td>\n",
              "      <td>1.945427</td>\n",
              "    </tr>\n",
              "  </tbody>\n",
              "</table>\n",
              "</div>\n",
              "      <button class=\"colab-df-convert\" onclick=\"convertToInteractive('df-350d657e-2056-4faf-84c2-9b7d515830fc')\"\n",
              "              title=\"Convert this dataframe to an interactive table.\"\n",
              "              style=\"display:none;\">\n",
              "        \n",
              "  <svg xmlns=\"http://www.w3.org/2000/svg\" height=\"24px\"viewBox=\"0 0 24 24\"\n",
              "       width=\"24px\">\n",
              "    <path d=\"M0 0h24v24H0V0z\" fill=\"none\"/>\n",
              "    <path d=\"M18.56 5.44l.94 2.06.94-2.06 2.06-.94-2.06-.94-.94-2.06-.94 2.06-2.06.94zm-11 1L8.5 8.5l.94-2.06 2.06-.94-2.06-.94L8.5 2.5l-.94 2.06-2.06.94zm10 10l.94 2.06.94-2.06 2.06-.94-2.06-.94-.94-2.06-.94 2.06-2.06.94z\"/><path d=\"M17.41 7.96l-1.37-1.37c-.4-.4-.92-.59-1.43-.59-.52 0-1.04.2-1.43.59L10.3 9.45l-7.72 7.72c-.78.78-.78 2.05 0 2.83L4 21.41c.39.39.9.59 1.41.59.51 0 1.02-.2 1.41-.59l7.78-7.78 2.81-2.81c.8-.78.8-2.07 0-2.86zM5.41 20L4 18.59l7.72-7.72 1.47 1.35L5.41 20z\"/>\n",
              "  </svg>\n",
              "      </button>\n",
              "      \n",
              "  <style>\n",
              "    .colab-df-container {\n",
              "      display:flex;\n",
              "      flex-wrap:wrap;\n",
              "      gap: 12px;\n",
              "    }\n",
              "\n",
              "    .colab-df-convert {\n",
              "      background-color: #E8F0FE;\n",
              "      border: none;\n",
              "      border-radius: 50%;\n",
              "      cursor: pointer;\n",
              "      display: none;\n",
              "      fill: #1967D2;\n",
              "      height: 32px;\n",
              "      padding: 0 0 0 0;\n",
              "      width: 32px;\n",
              "    }\n",
              "\n",
              "    .colab-df-convert:hover {\n",
              "      background-color: #E2EBFA;\n",
              "      box-shadow: 0px 1px 2px rgba(60, 64, 67, 0.3), 0px 1px 3px 1px rgba(60, 64, 67, 0.15);\n",
              "      fill: #174EA6;\n",
              "    }\n",
              "\n",
              "    [theme=dark] .colab-df-convert {\n",
              "      background-color: #3B4455;\n",
              "      fill: #D2E3FC;\n",
              "    }\n",
              "\n",
              "    [theme=dark] .colab-df-convert:hover {\n",
              "      background-color: #434B5C;\n",
              "      box-shadow: 0px 1px 3px 1px rgba(0, 0, 0, 0.15);\n",
              "      filter: drop-shadow(0px 1px 2px rgba(0, 0, 0, 0.3));\n",
              "      fill: #FFFFFF;\n",
              "    }\n",
              "  </style>\n",
              "\n",
              "      <script>\n",
              "        const buttonEl =\n",
              "          document.querySelector('#df-350d657e-2056-4faf-84c2-9b7d515830fc button.colab-df-convert');\n",
              "        buttonEl.style.display =\n",
              "          google.colab.kernel.accessAllowed ? 'block' : 'none';\n",
              "\n",
              "        async function convertToInteractive(key) {\n",
              "          const element = document.querySelector('#df-350d657e-2056-4faf-84c2-9b7d515830fc');\n",
              "          const dataTable =\n",
              "            await google.colab.kernel.invokeFunction('convertToInteractive',\n",
              "                                                     [key], {});\n",
              "          if (!dataTable) return;\n",
              "\n",
              "          const docLinkHtml = 'Like what you see? Visit the ' +\n",
              "            '<a target=\"_blank\" href=https://colab.research.google.com/notebooks/data_table.ipynb>data table notebook</a>'\n",
              "            + ' to learn more about interactive tables.';\n",
              "          element.innerHTML = '';\n",
              "          dataTable['output_type'] = 'display_data';\n",
              "          await google.colab.output.renderOutput(dataTable, element);\n",
              "          const docLink = document.createElement('div');\n",
              "          docLink.innerHTML = docLinkHtml;\n",
              "          element.appendChild(docLink);\n",
              "        }\n",
              "      </script>\n",
              "    </div>\n",
              "  </div>\n",
              "  "
            ]
          },
          "metadata": {},
          "execution_count": 9
        }
      ]
    },
    {
      "cell_type": "code",
      "source": [
        "data[['u', 'g', 'r', 'i', 'z', 'redshift']].hist(bins=50, figsize=(12, 12))\n",
        "plt.show()"
      ],
      "metadata": {
        "colab": {
          "base_uri": "https://localhost:8080/",
          "height": 716
        },
        "id": "r0zWLeMGkGE8",
        "outputId": "9423c9a6-c459-4bd9-fe0a-7a0ea7e0cbe5"
      },
      "execution_count": null,
      "outputs": [
        {
          "output_type": "display_data",
          "data": {
            "text/plain": [
              "<Figure size 864x864 with 6 Axes>"
            ],
            "image/png": "[encoded data removed]"
          },
          "metadata": {
            "needs_background": "light"
          }
        }
      ]
    },
    {
      "cell_type": "markdown",
      "source": [
        "We do not see a lot of anomalies here, **r**, **i** and **z** histograms are belly-shaped. **u** and **g** are negatively skewed, which can be hard for detection of patterns for some ML algorithms. All six parameters have small variability."
      ],
      "metadata": {
        "id": "l1DhQnYX3fRl"
      }
    },
    {
      "cell_type": "code",
      "source": [
        "pca = PCA(n_components=2)\n",
        "X2D = pca.fit_transform(data[['u', 'g', 'r', 'i', 'z', 'redshift']])\n",
        "plt.scatter(X2D[:,0], X2D[:,1])"
      ],
      "metadata": {
        "colab": {
          "base_uri": "https://localhost:8080/",
          "height": 282
        },
        "id": "YPMjVZtsIg7i",
        "outputId": "577f69a3-4292-4257-c245-cf18f4a88a3d"
      },
      "execution_count": null,
      "outputs": [
        {
          "output_type": "execute_result",
          "data": {
            "text/plain": [
              "<matplotlib.collections.PathCollection at 0x7fa1acd04310>"
            ]
          },
          "metadata": {},
          "execution_count": 10
        },
        {
          "output_type": "display_data",
          "data": {
            "text/plain": [
              "<Figure size 432x288 with 1 Axes>"
            ],
            "image/png": "[encoded data removed]"
          },
          "metadata": {
            "needs_background": "light"
          }
        }
      ]
    },
    {
      "cell_type": "markdown",
      "source": [
        "We can see that our data is quite homogeneous. There are some outliers, they could be also removed for better training."
      ],
      "metadata": {
        "id": "c4I7hTKVM6lb"
      }
    },
    {
      "cell_type": "markdown",
      "source": [
        "## 2. Pre-processing the data"
      ],
      "metadata": {
        "id": "K8xhgIawEj1c"
      }
    },
    {
      "cell_type": "markdown",
      "source": [
        "We create the dataset from the six attributes we discussed and also get labels from the \"class\" column."
      ],
      "metadata": {
        "id": "PuMtqAvHddrT"
      }
    },
    {
      "cell_type": "code",
      "source": [
        "X = data[['u', 'g', 'r', 'i', 'z', 'redshift']]\n",
        "y = data[['class']]"
      ],
      "metadata": {
        "id": "G6T89CISD0u0"
      },
      "execution_count": null,
      "outputs": []
    },
    {
      "cell_type": "markdown",
      "source": [
        "ML algorithms do not perform well when the input attributes have very different scales. We do normalization: we rescale attributes so they have values from 0 to 1."
      ],
      "metadata": {
        "id": "LD_VCYns8aVk"
      }
    },
    {
      "cell_type": "code",
      "source": [
        "norm = preprocessing.Normalizer().fit(X)\n",
        "X = norm.transform(X)\n",
        "X = np.asarray(X)\n",
        "X"
      ],
      "metadata": {
        "colab": {
          "base_uri": "https://localhost:8080/"
        },
        "id": "O-C9gfTMFS0s",
        "outputId": "fde0f655-81e8-4419-9c66-176b8a251606"
      },
      "execution_count": null,
      "outputs": [
        {
          "output_type": "execute_result",
          "data": {
            "text/plain": [
              "array([[4.94930179e-01, 4.57736978e-01, 4.36057462e-01, 4.25422320e-01,\n",
              "        4.17585293e-01, 3.63870420e-03],\n",
              "       [4.79927015e-01, 4.47443582e-01, 4.38115701e-01, 4.34997667e-01,\n",
              "        4.33930828e-01, 8.72079304e-07],\n",
              "       [5.04661154e-01, 4.55491585e-01, 4.33879999e-01, 4.22438490e-01,\n",
              "        4.13683750e-01, 2.03935225e-03],\n",
              "       ...,\n",
              "       [4.97280111e-01, 4.55748032e-01, 4.35269150e-01, 4.25320472e-01,\n",
              "        4.17908025e-01, 1.53891026e-03],\n",
              "       [4.87933539e-01, 4.51428561e-01, 4.36421211e-01, 4.30353271e-01,\n",
              "        4.27160046e-01, 1.62430712e-06],\n",
              "       [4.71973905e-01, 4.48072372e-01, 4.40287875e-01, 4.37164373e-01,\n",
              "        4.37613620e-01, 1.95131922e-05]])"
            ]
          },
          "metadata": {},
          "execution_count": 12
        }
      ]
    },
    {
      "cell_type": "markdown",
      "source": [
        "Machines do not like words, they like numbers. Therefore we have to encode \"STAR\" and \"GALAXY\" values to zeros and ones."
      ],
      "metadata": {
        "id": "Yl7wfwOT8eC8"
      }
    },
    {
      "cell_type": "code",
      "source": [
        "lb = preprocessing.LabelBinarizer()\n",
        "y = lb.fit_transform(y)\n",
        "y = np.asarray(y)\n",
        "y = np.squeeze(y)\n",
        "y"
      ],
      "metadata": {
        "colab": {
          "base_uri": "https://localhost:8080/"
        },
        "id": "WNgFGHgEy2lx",
        "outputId": "5a96733e-f640-48bb-9dd7-820605e738ce"
      },
      "execution_count": null,
      "outputs": [
        {
          "output_type": "execute_result",
          "data": {
            "text/plain": [
              "array([1, 0, 1, ..., 1, 0, 0])"
            ]
          },
          "metadata": {},
          "execution_count": 13
        }
      ]
    },
    {
      "cell_type": "markdown",
      "source": [
        "Next, we split the dataset into test and train subsets with a standard Scikit-learn function. For the test set we take 20% of the data and we shuffle the data (it is True by default here)."
      ],
      "metadata": {
        "id": "_rBccrPk7QiT"
      }
    },
    {
      "cell_type": "code",
      "source": [
        "X_train, X_test, y_train, y_test = train_test_split(X, y, test_size=0.2, random_state=42)\n",
        "print('X_train shape:', X_train.shape)\n",
        "print('X_test shape:', X_test.shape)\n",
        "print('y_train shape:', y_train.shape)\n",
        "print('y_test shape:', y_test.shape)"
      ],
      "metadata": {
        "colab": {
          "base_uri": "https://localhost:8080/"
        },
        "id": "wiE94t3rF9Rl",
        "outputId": "1a988d38-6c99-45ee-ce23-59e984255d7a"
      },
      "execution_count": null,
      "outputs": [
        {
          "output_type": "stream",
          "name": "stdout",
          "text": [
            "X_train shape: (64000, 6)\n",
            "X_test shape: (16000, 6)\n",
            "y_train shape: (64000,)\n",
            "y_test shape: (16000,)\n"
          ]
        }
      ]
    },
    {
      "cell_type": "markdown",
      "source": [
        "Let's check if shuffling went right:"
      ],
      "metadata": {
        "id": "-f7kZL0s-eBA"
      }
    },
    {
      "cell_type": "code",
      "source": [
        "unique_elements_train, counts_elements_train = np.unique(y_train, return_counts=True)\n",
        "print(unique_elements_train, counts_elements_train)\n",
        "unique_elements_test, counts_elements_test = np.unique(y_test, return_counts=True)\n",
        "print(unique_elements_test, counts_elements_test)"
      ],
      "metadata": {
        "colab": {
          "base_uri": "https://localhost:8080/"
        },
        "id": "Ye7TDy0kKB8R",
        "outputId": "4f1c2c61-d4e1-4c09-a101-1c50c2099b36"
      },
      "execution_count": null,
      "outputs": [
        {
          "output_type": "stream",
          "name": "stdout",
          "text": [
            "[0 1] [27184 36816]\n",
            "[0 1] [6812 9188]\n"
          ]
        }
      ]
    },
    {
      "cell_type": "markdown",
      "source": [
        "Great, the attributes with 0 and 1 labels are distributed more or less equally over train and test sets. Actually, scikit-learn keeps the ratio of zeros and ones in train and test sets the same as in the original set, as expected."
      ],
      "metadata": {
        "id": "D__MzKSu-nPn"
      }
    },
    {
      "cell_type": "markdown",
      "source": [
        "## 3. Training and evaluating the models"
      ],
      "metadata": {
        "id": "kBvVka_yjPGd"
      }
    },
    {
      "cell_type": "markdown",
      "source": [
        "The most common methods for binary classification are **Logistic Regression**, **k-Nearest Neighbors**, **Decision Trees**, **Support Vector Machine**, **Naive Bayes**, or more sophisticated methods, such as **Random Forest** or **Neural Network**.\n",
        "\n",
        "**k-Nearest Neighbors** does not work well with big datasets and with many dimensions. As our dataset is homogeneous and nonlinear, using **Decision Trees** and **SVM** is not a good idea. Instead, we can try **Random Forest** and **Nonlinear SVM**. **Voting Classifiers** could also perform well in this task.\n",
        "\n",
        "We start with a simple algorithm and move on to more complex ones. I would like to try the next four algorithms:\n",
        "* **Logistic Regression**\n",
        "* **Nonlinear SVM**\n",
        "* **Random Forest**\n",
        "* **Neural Network**"
      ],
      "metadata": {
        "id": "DOn7XTr7F3NU"
      }
    },
    {
      "cell_type": "markdown",
      "source": [
        "### 3.1. Logistic Regression"
      ],
      "metadata": {
        "id": "fUv7HtqznHbr"
      }
    },
    {
      "cell_type": "markdown",
      "source": [
        "Let's start with Logistic Regression Classifier. We pass data and labels to sklearn **LogisticRegression()** method and that's it."
      ],
      "metadata": {
        "id": "z_BQ9uIUySjt"
      }
    },
    {
      "cell_type": "code",
      "source": [
        "log_reg = LogisticRegression()\n",
        "log_reg.fit(X_train, y_train);"
      ],
      "metadata": {
        "id": "vBrA-rNRuklF"
      },
      "execution_count": null,
      "outputs": []
    },
    {
      "cell_type": "markdown",
      "source": [
        "Now we have to find out how good the model is. There are many evaluation techniques: RMSE, Cross-Validation, Confusion Matrix, Precision, Accuracy, and Recall. Let's make predictions for the test set and build the Confusion Matrix. "
      ],
      "metadata": {
        "id": "GaWhSXeRl9kV"
      }
    },
    {
      "cell_type": "code",
      "source": [
        "y_pred = log_reg.predict(X_test)\n",
        "cnf_matrix = metrics.confusion_matrix(y_test, y_pred)\n",
        "print('Confusion matrix')\n",
        "print(cnf_matrix)"
      ],
      "metadata": {
        "colab": {
          "base_uri": "https://localhost:8080/"
        },
        "id": "gWcqP48FM72N",
        "outputId": "746fc59b-d336-4ed7-f621-4955bf52e855"
      },
      "execution_count": null,
      "outputs": [
        {
          "output_type": "stream",
          "name": "stdout",
          "text": [
            "Confusion matrix\n",
            "[[4588 2224]\n",
            " [1262 7926]]\n"
          ]
        }
      ]
    },
    {
      "cell_type": "markdown",
      "source": [
        "For class \"zero\", 4520 entities were correctly classified and 2292 misclassified. For class \"one\", 7888 entities were correctly classified and 1300 misclassified. Well, the performance of this model is not so good. It is worth taking a look at one more metric: Precision, Recall, and F1 Score."
      ],
      "metadata": {
        "id": "6ns4kn3X6Xa-"
      }
    },
    {
      "cell_type": "code",
      "source": [
        "print('Precision:', metrics.precision_score(y_test, y_pred))\n",
        "print('Recall:', metrics.recall_score(y_test, y_pred))\n",
        "print('F1 Score:', metrics.f1_score(y_test, y_pred))"
      ],
      "metadata": {
        "colab": {
          "base_uri": "https://localhost:8080/"
        },
        "id": "gsO1qX082zUq",
        "outputId": "0c3521f8-3297-490a-ca16-b21fdaa8579d"
      },
      "execution_count": null,
      "outputs": [
        {
          "output_type": "stream",
          "name": "stdout",
          "text": [
            "Precision: 0.7808866995073892\n",
            "Recall: 0.8626469307792773\n",
            "F1 Score: 0.8197331678560348\n"
          ]
        }
      ]
    },
    {
      "cell_type": "markdown",
      "source": [
        "### 3.2. Nonlinear SVM"
      ],
      "metadata": {
        "id": "tFiWO8xUuPIa"
      }
    },
    {
      "cell_type": "markdown",
      "source": [
        "Now we do Nonlinear SVM Classification with Gaussian RBF Kernel. There are two important hyperparameters here: **gamma** and **C**. They act like regularization hyperparameters and therefore affect underfitting or overfitting. **Gamma** defines the smoothness of the decision boundary of our classifier. **C** defines margin violations, in other words, it sets the width of the decision boundary. We apply default values first."
      ],
      "metadata": {
        "id": "T9Tsqe95Gs4A"
      }
    },
    {
      "cell_type": "code",
      "source": [
        "svm_clf = SVC(kernel='rbf', gamma='scale', C=1)\n",
        "svm_clf.fit(X, y)\n",
        "\n",
        "y_pred = svm_clf.predict(X_test)\n",
        "cnf_matrix = metrics.confusion_matrix(y_test, y_pred)\n",
        "\n",
        "print('Confusion matrix')\n",
        "print(cnf_matrix)\n",
        "print('---------------')\n",
        "print('Precision:', metrics.precision_score(y_test, y_pred))\n",
        "print('Recall:', metrics.recall_score(y_test, y_pred))\n",
        "print('F1 Score:', metrics.f1_score(y_test, y_pred))"
      ],
      "metadata": {
        "colab": {
          "base_uri": "https://localhost:8080/"
        },
        "id": "lv2Uy3Ljbh1x",
        "outputId": "425537b2-88a9-4064-f3cf-b6c5920a914b"
      },
      "execution_count": null,
      "outputs": [
        {
          "output_type": "stream",
          "name": "stdout",
          "text": [
            "Confusion matrix\n",
            "[[6564  248]\n",
            " [ 646 8542]]\n",
            "---------------\n",
            "Precision: 0.9717861205915813\n",
            "Recall: 0.9296909011754463\n",
            "F1 Score: 0.9502725553454222\n"
          ]
        }
      ]
    },
    {
      "cell_type": "markdown",
      "source": [
        "Well, this model looks much better! Let's skip hyperparameters tuning and try next models."
      ],
      "metadata": {
        "id": "sTrCdEQLPsMJ"
      }
    },
    {
      "cell_type": "markdown",
      "source": [
        "### 3.3. Random Forest"
      ],
      "metadata": {
        "id": "E7h3qQ9LIAod"
      }
    },
    {
      "cell_type": "markdown",
      "source": [
        "Random Forest is an ensemple learning algorithm of Decision Trees. Let's try it also with default parameters."
      ],
      "metadata": {
        "id": "nGyBEqH6T9yF"
      }
    },
    {
      "cell_type": "code",
      "source": [
        "rnd_clf = RandomForestClassifier()\n",
        "rnd_clf.fit(X_train, y_train)\n",
        "\n",
        "y_pred = rnd_clf.predict(X_test)\n",
        "cnf_matrix = metrics.confusion_matrix(y_test, y_pred)\n",
        "\n",
        "print('Confusion matrix')\n",
        "print(cnf_matrix)\n",
        "print('---------------')\n",
        "print('Precision:', metrics.precision_score(y_test, y_pred))\n",
        "print('Recall:', metrics.recall_score(y_test, y_pred))\n",
        "print('F1 Score:', metrics.f1_score(y_test, y_pred))"
      ],
      "metadata": {
        "colab": {
          "base_uri": "https://localhost:8080/"
        },
        "id": "mEQCDNnIcmy7",
        "outputId": "87fcab9c-e03a-4cf1-c126-666500a21b2c"
      },
      "execution_count": null,
      "outputs": [
        {
          "output_type": "stream",
          "name": "stdout",
          "text": [
            "Confusion matrix\n",
            "[[6806    6]\n",
            " [  56 9132]]\n",
            "---------------\n",
            "Precision: 0.9993434011818779\n",
            "Recall: 0.9939050936003483\n",
            "F1 Score: 0.9966168285496018\n"
          ]
        }
      ]
    },
    {
      "cell_type": "markdown",
      "source": [
        "Great, this classifier is even better than Nonlinear SVM. We could stop here, but let's try something else: a Neural Network."
      ],
      "metadata": {
        "id": "0YvJYEjBUlu4"
      }
    },
    {
      "cell_type": "markdown",
      "source": [
        "### 3.4. Neural Network"
      ],
      "metadata": {
        "id": "5LYkEaVWoso2"
      }
    },
    {
      "cell_type": "markdown",
      "source": [
        "Wi will build a very simple Neural Network just with a couple of Dense layers, and I assume it will perform good enough.\n",
        "\n",
        "First, we change the data and labels to TF tensors."
      ],
      "metadata": {
        "id": "2RVh7zDZdZTJ"
      }
    },
    {
      "cell_type": "code",
      "source": [
        "X_train = tf.constant(X_train)\n",
        "y_train = tf.constant(y_train)\n",
        "X_test = tf.constant(X_test)\n",
        "y_test = tf.constant(y_test)"
      ],
      "metadata": {
        "id": "lPer-W3tHdSj"
      },
      "execution_count": null,
      "outputs": []
    },
    {
      "cell_type": "markdown",
      "source": [
        "Let's build and train the model now. We choose the sequential model because it will have a linear architecture, we make four dense layers. For binary classification, we have to choose one neuron and sigmoid activation function in the last layer. The loss function has to be \"Binary Crossentropy\". We train over 50 epochs."
      ],
      "metadata": {
        "id": "TTw9pdYlJFgk"
      }
    },
    {
      "cell_type": "code",
      "source": [
        "# Create the model\n",
        "model = tf.keras.Sequential([\n",
        "                               tf.keras.layers.Dense(128, activation=\"relu\"),\n",
        "                               tf.keras.layers.Dense(256, activation=\"relu\"),\n",
        "                               tf.keras.layers.Dense(128, activation=\"relu\"),\n",
        "                               tf.keras.layers.Dense(1, activation=\"sigmoid\")\n",
        "])\n",
        "\n",
        "# Compile the model\n",
        "model.compile(loss=\"binary_crossentropy\",\n",
        "              optimizer=\"Adam\",\n",
        "              metrics=[\"accuracy\"])\n",
        "\n",
        "# Fit the model\n",
        "history = model.fit(X_train, \n",
        "                    y_train, \n",
        "                    epochs=50, \n",
        "                    validation_data=(X_test, y_test),\n",
        "                    verbose=0)"
      ],
      "metadata": {
        "id": "lprxLCtzma4t"
      },
      "execution_count": null,
      "outputs": []
    },
    {
      "cell_type": "code",
      "source": [
        "model.evaluate(X_test, y_test)"
      ],
      "metadata": {
        "colab": {
          "base_uri": "https://localhost:8080/"
        },
        "id": "HNJhp63kp9v5",
        "outputId": "dc53b857-6212-4937-a1d5-2621c0c5e885"
      },
      "execution_count": null,
      "outputs": [
        {
          "output_type": "stream",
          "name": "stdout",
          "text": [
            "500/500 [==============================] - 0s 818us/step - loss: 0.0294 - accuracy: 0.9942\n"
          ]
        },
        {
          "output_type": "execute_result",
          "data": {
            "text/plain": [
              "[0.029379412531852722, 0.9941874742507935]"
            ]
          },
          "metadata": {},
          "execution_count": 23
        }
      ]
    },
    {
      "cell_type": "markdown",
      "source": [
        "After 50 epochs we have reached about 95% of accuracy. Now we evaluate the model on test data and look at model summary."
      ],
      "metadata": {
        "id": "jHqjnYkKJ8Li"
      }
    },
    {
      "cell_type": "code",
      "source": [
        "model.summary()"
      ],
      "metadata": {
        "colab": {
          "base_uri": "https://localhost:8080/"
        },
        "id": "ZuoHuWKMriQ1",
        "outputId": "bf964abd-07bb-41c9-a3c9-766f00a41c14"
      },
      "execution_count": null,
      "outputs": [
        {
          "output_type": "stream",
          "name": "stdout",
          "text": [
            "Model: \"sequential\"\n",
            "_________________________________________________________________\n",
            " Layer (type)                Output Shape              Param #   \n",
            "=================================================================\n",
            " dense (Dense)               (32, 128)                 896       \n",
            "                                                                 \n",
            " dense_1 (Dense)             (32, 256)                 33024     \n",
            "                                                                 \n",
            " dense_2 (Dense)             (32, 128)                 32896     \n",
            "                                                                 \n",
            " dense_3 (Dense)             (32, 1)                   129       \n",
            "                                                                 \n",
            "=================================================================\n",
            "Total params: 66,945\n",
            "Trainable params: 66,945\n",
            "Non-trainable params: 0\n",
            "_________________________________________________________________\n"
          ]
        }
      ]
    },
    {
      "cell_type": "markdown",
      "source": [
        "Our model has 66,817 neurons. Now we have to take a look at training curves:"
      ],
      "metadata": {
        "id": "KQQDCFktJdUM"
      }
    },
    {
      "cell_type": "code",
      "source": [
        "# Check accuracy and loss\n",
        "plt.figure(0)\n",
        "plt.plot(history.history['accuracy'], label='accuracy')\n",
        "plt.plot(history.history['val_accuracy'], label = 'val_accuracy')\n",
        "plt.xlabel('Epoch')\n",
        "plt.ylabel('Accuracy')\n",
        "plt.ylim([0.7, 1])\n",
        "plt.legend(loc='center right')\n",
        "\n",
        "plt.figure(1)\n",
        "plt.plot(history.history['loss'], label='loss')\n",
        "plt.plot(history.history['val_loss'], label = 'val_loss')\n",
        "plt.xlabel('Epoch')\n",
        "plt.ylabel('Loss')\n",
        "plt.ylim([0, 0.3])\n",
        "plt.legend(loc='center right')"
      ],
      "metadata": {
        "colab": {
          "base_uri": "https://localhost:8080/",
          "height": 566
        },
        "id": "ywBQhtUlBynB",
        "outputId": "158762a2-3982-45d4-e15b-deae34091ae2"
      },
      "execution_count": null,
      "outputs": [
        {
          "output_type": "execute_result",
          "data": {
            "text/plain": [
              "<matplotlib.legend.Legend at 0x7fa1accebc10>"
            ]
          },
          "metadata": {},
          "execution_count": 25
        },
        {
          "output_type": "display_data",
          "data": {
            "text/plain": [
              "<Figure size 432x288 with 1 Axes>"
            ],
            "image/png": "[encoded data removed]"
          },
          "metadata": {
            "needs_background": "light"
          }
        },
        {
          "output_type": "display_data",
          "data": {
            "text/plain": [
              "<Figure size 432x288 with 1 Axes>"
            ],
            "image/png": "[encoded data removed]"
          },
          "metadata": {
            "needs_background": "light"
          }
        }
      ]
    },
    {
      "cell_type": "markdown",
      "source": [
        "We can see that validation curves fluctuate over epochs. It is not a good sign, it means the model cannot apply well weights after training on the test data. This model needs fine-tuning: adjusting batch size, learning rate, activation function, etc. Let's change the learning rate from 0.001 (default value) to 0.0001, and apply the ELU activation function instead of RELU (it means we add some significance to negative weights)."
      ],
      "metadata": {
        "id": "S0kCJfp4LKH6"
      }
    },
    {
      "cell_type": "code",
      "source": [
        "# Create the model\n",
        "model_2 = tf.keras.Sequential([\n",
        "                               tf.keras.layers.Dense(128, activation=\"elu\"),\n",
        "                               tf.keras.layers.Dense(256, activation=\"elu\"),\n",
        "                               tf.keras.layers.Dense(128, activation=\"elu\"),\n",
        "                               tf.keras.layers.Dense(1, activation=\"sigmoid\")\n",
        "])\n",
        "\n",
        "# Compile the model\n",
        "model_2.compile(loss=\"binary_crossentropy\",\n",
        "                optimizer=tf.keras.optimizers.Adam(learning_rate=0.0001),\n",
        "                metrics=[\"accuracy\"])\n",
        "\n",
        "# Fit the model\n",
        "history_2 = model_2.fit(X_train, \n",
        "                        y_train, \n",
        "                        epochs=50, \n",
        "                        validation_data=(X_test, y_test),\n",
        "                        verbose=0)"
      ],
      "metadata": {
        "id": "xnIFL82XA6NH"
      },
      "execution_count": null,
      "outputs": []
    },
    {
      "cell_type": "code",
      "source": [
        "model_2.evaluate(X_test, y_test)"
      ],
      "metadata": {
        "colab": {
          "base_uri": "https://localhost:8080/"
        },
        "id": "e_N24opRHD2y",
        "outputId": "de893f1d-3143-445a-f813-0499d82073d6"
      },
      "execution_count": null,
      "outputs": [
        {
          "output_type": "stream",
          "name": "stdout",
          "text": [
            "500/500 [==============================] - 0s 863us/step - loss: 0.0318 - accuracy: 0.9926\n"
          ]
        },
        {
          "output_type": "execute_result",
          "data": {
            "text/plain": [
              "[0.03176833316683769, 0.992562472820282]"
            ]
          },
          "metadata": {},
          "execution_count": 27
        }
      ]
    },
    {
      "cell_type": "code",
      "source": [
        "# Check accuracy and loss\n",
        "plt.figure(0)\n",
        "plt.plot(history_2.history['accuracy'], label='accuracy')\n",
        "plt.plot(history_2.history['val_accuracy'], label = 'val_accuracy')\n",
        "plt.xlabel('Epoch')\n",
        "plt.ylabel('Accuracy')\n",
        "plt.ylim([0.7, 1])\n",
        "plt.legend(loc='center right')\n",
        "\n",
        "plt.figure(1)\n",
        "plt.plot(history_2.history['loss'], label='loss')\n",
        "plt.plot(history_2.history['val_loss'], label = 'val_loss')\n",
        "plt.xlabel('Epoch')\n",
        "plt.ylabel('Loss')\n",
        "plt.ylim([0, 0.3])\n",
        "plt.legend(loc='center right')"
      ],
      "metadata": {
        "colab": {
          "base_uri": "https://localhost:8080/",
          "height": 566
        },
        "id": "MBG5cEh9BZ_E",
        "outputId": "c257422e-e5ed-41a5-d107-7df5027ec3f6"
      },
      "execution_count": null,
      "outputs": [
        {
          "output_type": "execute_result",
          "data": {
            "text/plain": [
              "<matplotlib.legend.Legend at 0x7fa1a3e1e3d0>"
            ]
          },
          "metadata": {},
          "execution_count": 28
        },
        {
          "output_type": "display_data",
          "data": {
            "text/plain": [
              "<Figure size 432x288 with 1 Axes>"
            ],
            "image/png": "[encoded data removed]"
          },
          "metadata": {
            "needs_background": "light"
          }
        },
        {
          "output_type": "display_data",
          "data": {
            "text/plain": [
              "<Figure size 432x288 with 1 Axes>"
            ],
            "image/png": "[encoded data removed]"
          },
          "metadata": {
            "needs_background": "light"
          }
        }
      ]
    },
    {
      "cell_type": "markdown",
      "source": [
        "Now validation curves look better than before, but they are still not ideal. Let's stop here."
      ],
      "metadata": {
        "id": "a9DvtC98GZnN"
      }
    },
    {
      "cell_type": "code",
      "source": [
        "y_pred = model.predict(X_test)\n",
        "y_pred = tf.constant(y_pred, dtype = tf.int64)\n",
        "y_pred = tf.squeeze(y_pred)\n",
        "cnf_matrix = tf.math.confusion_matrix(y_test, y_pred)\n",
        "print('Confusion matrix')\n",
        "print(cnf_matrix)\n",
        "print('---------------')\n",
        "print('Precision:', metrics.precision_score(y_test, y_pred))\n",
        "print('Recall:', metrics.recall_score(y_test, y_pred))\n",
        "print('F1 Score:', metrics.f1_score(y_test, y_pred))"
      ],
      "metadata": {
        "colab": {
          "base_uri": "https://localhost:8080/"
        },
        "id": "BUO-bL-OUdsp",
        "outputId": "aba3514b-bd35-4e4d-9baa-7edfeacd4201"
      },
      "execution_count": null,
      "outputs": [
        {
          "output_type": "stream",
          "name": "stdout",
          "text": [
            "Confusion matrix\n",
            "tf.Tensor(\n",
            "[[6812    0]\n",
            " [ 175 9013]], shape=(2, 2), dtype=int32)\n",
            "---------------\n",
            "Precision: 1.0\n",
            "Recall: 0.9809534175010883\n",
            "F1 Score: 0.9903851436734246\n"
          ]
        }
      ]
    },
    {
      "cell_type": "markdown",
      "source": [
        "## 4. Conclusions"
      ],
      "metadata": {
        "id": "rT2fymmDV5EC"
      }
    },
    {
      "cell_type": "markdown",
      "source": [
        "We can see that **Nonlinear SVM with Gaussian RBF Kernel** as well as **Random Forest** show very good performance. **Neural Network** with dense layers is good as well, but it needs some tuning. For this problem, I would recommend choosing **Random Forest** model."
      ],
      "metadata": {
        "id": "xSOBymvmENxP"
      }
    },
    {
      "cell_type": "markdown",
      "source": [
        "We should save now the Random Forest Model in binary format and use it further for predictions in any ML application. We use a pickle library for \"pickling\" the model:"
      ],
      "metadata": {
        "id": "0U5rEtakK2W2"
      }
    },
    {
      "cell_type": "code",
      "source": [
        "import pickle\n",
        "\n",
        "with open('/content/gdrive/My Drive/saved_model.pkl', 'wb') as f:\n",
        "    pickle.dump(rnd_clf, f)"
      ],
      "metadata": {
        "id": "oZM7yYb5KYXx"
      },
      "execution_count": null,
      "outputs": []
    }
  ]
}